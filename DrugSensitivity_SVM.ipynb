{
 "cells": [
  {
   "cell_type": "code",
   "execution_count": 2,
   "metadata": {
    "collapsed": true
   },
   "outputs": [],
   "source": [
    "%matplotlib inline\n",
    "\n",
    "import numpy as np\n",
    "import matplotlib.pylab as plt\n",
    "import pandas as pd\n",
    "\n",
    "from sklearn.metrics import mean_squared_error\n",
    "\n",
    "df = pd.read_csv('OneDrug_train.csv')"
   ]
  },
  {
   "cell_type": "code",
   "execution_count": 3,
   "metadata": {
    "collapsed": false
   },
   "outputs": [
    {
     "data": {
      "text/plain": [
       "542"
      ]
     },
     "execution_count": 3,
     "metadata": {},
     "output_type": "execute_result"
    }
   ],
   "source": [
    "df = df.dropna(axis=0)\n",
    "X = df.iloc[:,3:].values\n",
    "y = df.iloc[:,2].values\n",
    "X.shape[0]"
   ]
  },
  {
   "cell_type": "code",
   "execution_count": 4,
   "metadata": {
    "collapsed": false
   },
   "outputs": [
    {
     "data": {
      "text/plain": [
       "2.9200172007430014"
      ]
     },
     "execution_count": 4,
     "metadata": {},
     "output_type": "execute_result"
    }
   ],
   "source": [
    "from sklearn.cross_validation import train_test_split\n",
    "X_train,X_test,y_train,y_test = \\\n",
    "train_test_split(X,y,test_size = 0.2)\n",
    "\n",
    "from sklearn.svm import SVR \n",
    "clf = SVR(C=1.0, epsilon=0.1)\n",
    "clf.fit(X_train, y_train) \n",
    "\n",
    "clf.predict(X_test)\n",
    "\n",
    "mean_squared_error(clf.predict(X_test),y_test)"
   ]
  },
  {
   "cell_type": "code",
   "execution_count": 10,
   "metadata": {
    "collapsed": false
   },
   "outputs": [
    {
     "name": "stdout",
     "output_type": "stream",
     "text": [
      "5.30038619059\n",
      "3.13157359183\n",
      "3.64422532946\n",
      "2.33682147969\n",
      "3.29414876701\n",
      "mse: 3.54143107171\n"
     ]
    }
   ],
   "source": [
    "from sklearn.cross_validation import KFold \n",
    "kfold = KFold(X.shape[0],n_folds=5)\n",
    "\n",
    "scores=[]\n",
    "for train,test in kfold:\n",
    "    clf = SVR(C= 0.1, epsilon = 0.1) \n",
    "    clf.fit(X[train],y[train])\n",
    "    score = mean_squared_error(y[test],clf.predict(X[test]))\n",
    "    print score\n",
    "    scores.append(score)\n",
    "print ('mse: '+str(np.mean(scores)))"
   ]
  },
  {
   "cell_type": "code",
   "execution_count": 85,
   "metadata": {
    "collapsed": false
   },
   "outputs": [
    {
     "name": "stdout",
     "output_type": "stream",
     "text": [
      "5.34420287743\n",
      "3.15024535755\n",
      "3.61892880015\n",
      "2.37621424644\n",
      "3.33133580855\n",
      "mse3.56418541802\n"
     ]
    }
   ],
   "source": [
    "tot = 0\n",
    "for train,test in kfold:\n",
    "    clf = SVR(C= 0.1,kernel = 'poly', epsilon = 0.1, degree = 4) \n",
    "    clf.fit(X[train],y[train])\n",
    "    print mean_squared_error(y[test],clf.predict(X[test]))\n",
    "    tot += mean_squared_error(y[test],clf.predict(X[test]))\n",
    "print ('mse'+str(tot/5))"
   ]
  }
 ],
 "metadata": {
  "kernelspec": {
   "display_name": "Python [conda root]",
   "language": "python",
   "name": "conda-root-py"
  },
  "language_info": {
   "codemirror_mode": {
    "name": "ipython",
    "version": 2
   },
   "file_extension": ".py",
   "mimetype": "text/x-python",
   "name": "python",
   "nbconvert_exporter": "python",
   "pygments_lexer": "ipython2",
   "version": "2.7.12"
  }
 },
 "nbformat": 4,
 "nbformat_minor": 1
}
