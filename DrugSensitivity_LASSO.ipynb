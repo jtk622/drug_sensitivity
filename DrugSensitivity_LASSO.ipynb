{
 "cells": [
  {
   "cell_type": "code",
   "execution_count": 1,
   "metadata": {
    "collapsed": true
   },
   "outputs": [],
   "source": [
    "%matplotlib inline\n",
    "\n",
    "import numpy as np\n",
    "import matplotlib.pylab as plt\n",
    "import pandas as pd\n",
    "\n",
    "from sklearn.metrics import mean_squared_error\n",
    "\n",
    "df = pd.read_csv('OneDrug_train.csv')"
   ]
  },
  {
   "cell_type": "code",
   "execution_count": 4,
   "metadata": {
    "collapsed": false
   },
   "outputs": [],
   "source": [
    "train = df.dropna(axis=0)\n",
    "X = train.iloc[:,3:].values\n",
    "y = train.iloc[:,2].values"
   ]
  },
  {
   "cell_type": "markdown",
   "metadata": {},
   "source": [
    "## Linear Regression"
   ]
  },
  {
   "cell_type": "code",
   "execution_count": 10,
   "metadata": {
    "collapsed": false
   },
   "outputs": [
    {
     "name": "stdout",
     "output_type": "stream",
     "text": [
      "8.65209393469e+25\n",
      "3.74818626508\n",
      "3.79842385419e+26\n",
      "2.34289852298e+25\n",
      "2.8868389265\n",
      "mse9.79584619991e+25\n"
     ]
    }
   ],
   "source": [
    "from sklearn import linear_model\n",
    "\n",
    "from sklearn import linear_model\n",
    "\n",
    "\n",
    "lr = linear_model.LinearRegression()\n",
    "\n",
    "# cross_val_predict returns an array of the same size as `y` where each entry\n",
    "# is a prediction obtained by cross validation:\n",
    "\n",
    "from sklearn.cross_validation import KFold \n",
    "kfold = KFold(X.shape[0],n_folds=5)\n",
    "\n",
    "scores=[]\n",
    "for train,test in kfold:\n",
    "    lr.fit(X[train],y[train])\n",
    "    score = mean_squared_error(y[test],lr.predict(X[test]))\n",
    "    print score\n",
    "    scores.append(score)\n",
    "print ('mse'+str(np.mean(scores)))"
   ]
  },
  {
   "cell_type": "code",
   "execution_count": null,
   "metadata": {
    "collapsed": true
   },
   "outputs": [],
   "source": [
    ">>> from sklearn import linear_model\n",
    ">>> clf = linear_model.Lasso(alpha=0.1)\n",
    ">>> clf.fit([[0,0], [1, 1], [2, 2]], [0, 1, 2])\n",
    "Lasso(alpha=0.1, copy_X=True, fit_intercept=True, max_iter=1000,\n",
    "   normalize=False, positive=False, precompute=False, random_state=None,\n",
    "   selection='cyclic', tol=0.0001, warm_start=False)\n",
    ">>> print(clf.coef_)\n",
    "[ 0.85  0.  ]\n",
    ">>> print(clf.intercept_)\n",
    "0.15"
   ]
  },
  {
   "cell_type": "markdown",
   "metadata": {},
   "source": [
    "## LASSO"
   ]
  },
  {
   "cell_type": "code",
   "execution_count": 33,
   "metadata": {
    "collapsed": false
   },
   "outputs": [
    {
     "name": "stdout",
     "output_type": "stream",
     "text": [
      "mse2.91982626112\n",
      "mse2.90714953157\n",
      "mse2.96494916426\n",
      "mse3.02889778463\n",
      "mse3.09151767011\n",
      "mse3.15678355998\n",
      "mse3.20819585899\n",
      "mse3.21987799483\n",
      "mse3.2329552841\n",
      "mse3.23630427298\n",
      "mse3.23641112955\n",
      "mse3.23649360209\n",
      "mse3.23649360209\n",
      "mse3.23649360209\n",
      "mse3.23649360209\n",
      "mse3.23649360209\n",
      "mse3.23649360209\n",
      "mse3.23649360209\n",
      "mse3.23649360209\n",
      "mse3.23649360209\n",
      "mse3.23649360209\n",
      "mse3.23649360209\n",
      "mse3.23649360209\n",
      "mse3.23649360209\n",
      "mse3.23649360209\n",
      "mse3.23649360209\n",
      "mse3.23649360209\n",
      "mse3.23649360209\n",
      "mse3.23649360209\n",
      "mse3.23649360209\n",
      "mse3.23649360209\n",
      "mse3.23649360209\n",
      "mse3.23649360209\n",
      "mse3.23649360209\n",
      "mse3.23649360209\n",
      "mse3.23649360209\n",
      "mse3.23649360209\n",
      "mse3.23649360209\n",
      "mse3.23649360209\n",
      "mse3.23649360209\n",
      "mse3.23649360209\n",
      "mse3.23649360209\n",
      "mse3.23649360209\n",
      "mse3.23649360209\n",
      "mse3.23649360209\n",
      "mse3.23649360209\n",
      "mse3.23649360209\n",
      "mse3.23649360209\n",
      "mse3.23649360209\n"
     ]
    },
    {
     "data": {
      "text/plain": [
       "[<matplotlib.lines.Line2D at 0x119677550>]"
      ]
     },
     "execution_count": 33,
     "metadata": {},
     "output_type": "execute_result"
    },
    {
     "data": {
      "image/png": "[encoded data removed]",
      "text/plain": [
       "<matplotlib.figure.Figure at 0x11aac5c90>"
      ]
     },
     "metadata": {},
     "output_type": "display_data"
    }
   ],
   "source": [
    "from sklearn import linear_model \n",
    "\n",
    "from sklearn.cross_validation import KFold \n",
    "kfold = KFold(X.shape[0],n_folds=5)\n",
    "\n",
    "mse = []\n",
    "alpha_range = np.arange(0.01,0.5,0.01)\n",
    "for alphas in alpha_range:\n",
    "    scores=[]\n",
    "    lasso = linear_model.Lasso(alpha = alphas)\n",
    "    for train,test in kfold:\n",
    "        lasso.fit(X[train],y[train])\n",
    "        score = mean_squared_error(y[test],lasso.predict(X[test]))\n",
    "        scores.append(score)\n",
    "    print ('mse'+str(np.mean(scores)))\n",
    "    mse.append(np.mean(scores))\n",
    "plt.plot(alpha_range,mse)"
   ]
  }
 ],
 "metadata": {
  "anaconda-cloud": {},
  "kernelspec": {
   "display_name": "Python [conda root]",
   "language": "python",
   "name": "conda-root-py"
  },
  "language_info": {
   "codemirror_mode": {
    "name": "ipython",
    "version": 2
   },
   "file_extension": ".py",
   "mimetype": "text/x-python",
   "name": "python",
   "nbconvert_exporter": "python",
   "pygments_lexer": "ipython2",
   "version": "2.7.12"
  }
 },
 "nbformat": 4,
 "nbformat_minor": 1
}
